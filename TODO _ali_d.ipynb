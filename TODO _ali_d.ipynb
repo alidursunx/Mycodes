{
 "cells": [
  {
   "cell_type": "code",
   "execution_count": null,
   "metadata": {},
   "outputs": [
    {
     "name": "stdout",
     "output_type": "stream",
     "text": [
      "Add Item PRESS 1 \n",
      " Remove ITEM PRESS 2\n",
      " Report COMPLETED TASKS PRESS 3\n",
      " Report UNCOMPLETED TASKS PRESS 4\n",
      " EDIT TASKS PRESS 5\\ SHOW CURRENT PRESS 6 3\n",
      "Completed tasks\n",
      "{}\n",
      "Add Item PRESS 1 \n",
      " Remove ITEM PRESS 2\n",
      " Report COMPLETED TASKS PRESS 3\n",
      " Report UNCOMPLETED TASKS PRESS 4\n",
      " EDIT TASKS PRESS 5\\ SHOW CURRENT PRESS 6 1\n"
     ]
    }
   ],
   "source": [
    "\n",
    "tasks={}\n",
    "task_new={}\n",
    "def tasking():\n",
    "    choice=input('Add Item PRESS 1 \\n Remove ITEM PRESS 2\\n Report COMPLETED TASKS PRESS 3\\n Report UNCOMPLETED TASKS PRESS 4\\n EDIT TASKS PRESS 5\\ SHOW CURRENT PRESS 6 ')\n",
    "    if choice == '1':\n",
    "        add_remove(1)\n",
    "    elif choice == '2':\n",
    "        add_remove(2)\n",
    "    elif choice == '3':\n",
    "        report(3)\n",
    "    elif choice == 4:\n",
    "        report(4)\n",
    "    elif choice == 5:\n",
    "        edit_tas()\n",
    "    else:\n",
    "        print('tasks')\n",
    "    tasking()\n",
    "        \n",
    "def add_remove(desic):\n",
    "    #Adding and removing items\n",
    "    if desic == 1:\n",
    "        key=input('Please task key')\n",
    "        due=input('Set as a due date like this 10.12.2019 ')\n",
    "        priority=input('Select priority in the range 0-5')\n",
    "        situat=input('Task is complete Y or N')\n",
    "        tasks[key]=[due,priority,situat]\n",
    "        \n",
    "    else:\n",
    "        key_rem=input('Please enter the label of the task you want to delete')\n",
    "        tasks.pop(key_rem)\n",
    "    return\n",
    "\n",
    "def edit_task():\n",
    "    arbit1=input('Change Priority: PRESS 1\\n Changeof the Situation PRESS 2')\n",
    "    if arbit == '1':\n",
    "        key_ar=input('Enter key label')\n",
    "        new_priority=input('Enter new priority 0-5')\n",
    "        tasks[key_ar][1]=new_priority\n",
    "    else:\n",
    "        key_ar=input('Enter key label')\n",
    "        fin=input('is task finished Y/N')\n",
    "        tasks[key_ar][2]=fin\n",
    "    return\n",
    "    \n",
    "def report(mod):\n",
    "    uncomp={}\n",
    "    comp={}\n",
    "    for key in tasks:\n",
    "        if tasks[key][2] == 'N':\n",
    "            uncom[key]=tasks[key]\n",
    "        else:\n",
    "            comp[key]=task[key]\n",
    "    if mod == 3:\n",
    "        print('Completed tasks')\n",
    "        print(comp)\n",
    "    else:\n",
    "        print('Uncompleted tasks')\n",
    "        print(uncom)\n",
    "    return\n",
    "tasking()             "
   ]
  },
  {
   "cell_type": "code",
   "execution_count": 43,
   "metadata": {},
   "outputs": [
    {
     "data": {
      "text/plain": [
       "{'ali': 25, 'omer': [45, 45, 34, 'dene'], 'taner': 79}"
      ]
     },
     "execution_count": 43,
     "metadata": {},
     "output_type": "execute_result"
    }
   ],
   "source": [
    "a={'ali':25,'omer': [45,45,34,'dene'],'taner':79}\n",
    "a['deve']=456\n",
    "a.pop('deve')\n",
    "a"
   ]
  },
  {
   "cell_type": "code",
   "execution_count": 38,
   "metadata": {},
   "outputs": [
    {
     "ename": "AttributeError",
     "evalue": "'dict' object has no attribute 'append'",
     "output_type": "error",
     "traceback": [
      "\u001b[1;31m---------------------------------------------------------------------------\u001b[0m",
      "\u001b[1;31mAttributeError\u001b[0m                            Traceback (most recent call last)",
      "\u001b[1;32m<ipython-input-38-e35da5321dcf>\u001b[0m in \u001b[0;36m<module>\u001b[1;34m\u001b[0m\n\u001b[0;32m      1\u001b[0m \u001b[0mb\u001b[0m\u001b[1;33m=\u001b[0m\u001b[1;33m{\u001b[0m\u001b[1;33m}\u001b[0m\u001b[1;33m\u001b[0m\u001b[1;33m\u001b[0m\u001b[0m\n\u001b[1;32m----> 2\u001b[1;33m \u001b[0mb\u001b[0m\u001b[1;33m.\u001b[0m\u001b[0mappend\u001b[0m\u001b[1;33m(\u001b[0m\u001b[0ma\u001b[0m\u001b[1;33m[\u001b[0m\u001b[1;34m'omer'\u001b[0m\u001b[1;33m]\u001b[0m\u001b[1;33m)\u001b[0m\u001b[1;33m\u001b[0m\u001b[1;33m\u001b[0m\u001b[0m\n\u001b[0m",
      "\u001b[1;31mAttributeError\u001b[0m: 'dict' object has no attribute 'append'"
     ]
    }
   ],
   "source": [
    "b={}\n",
    "b.append(a['omer'])"
   ]
  }
 ],
 "metadata": {
  "kernelspec": {
   "display_name": "Python 3",
   "language": "python",
   "name": "python3"
  },
  "language_info": {
   "codemirror_mode": {
    "name": "ipython",
    "version": 3
   },
   "file_extension": ".py",
   "mimetype": "text/x-python",
   "name": "python",
   "nbconvert_exporter": "python",
   "pygments_lexer": "ipython3",
   "version": "3.7.3"
  }
 },
 "nbformat": 4,
 "nbformat_minor": 2
}
