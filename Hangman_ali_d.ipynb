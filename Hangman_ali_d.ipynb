{
 "cells": [
  {
   "cell_type": "code",
   "execution_count": 2,
   "metadata": {},
   "outputs": [],
   "source": [
    "def welcome():\n",
    "    print('Welcome')\n",
    "    print('Would you like play HANGMAN\\nPress 1 to start Press 2 Exit ')\n",
    "    start_choice=input('Your choice:')\n",
    "    if start_choice == '2':\n",
    "        return()\n",
    "    else:\n",
    "        user_name=input('What is Your Name')\n",
    "        print(f'Welcome to the game {user_name} ')\n",
    "        gost()\n",
    "    \n"
   ]
  },
  {
   "cell_type": "code",
   "execution_count": 3,
   "metadata": {},
   "outputs": [],
   "source": [
    "def wordget():\n",
    "    import random\n",
    "    worden=['amsterdam','deeploi','mehmet','ali','nazmi','eindhoven','netherland','turkiye','babamsagolsun','asylum']\n",
    "    num_word=len(worden)\n",
    "    random.shuffle(worden)\n",
    "    word_i=random.randint(0,num_word-1)\n",
    "    choice=worden[word_i]\n",
    "    return choice"
   ]
  },
  {
   "cell_type": "code",
   "execution_count": 8,
   "metadata": {},
   "outputs": [],
   "source": [
    "def gost():\n",
    "    gu_num=0\n",
    "    gus_true=0\n",
    "    count_two=0\n",
    "    count_three=0\n",
    "    choice=wordget()\n",
    "    print(choice)\n",
    "    len_c=len(choice)\n",
    "    print(len_c)\n",
    "    word_current=list(len_c*'_')\n",
    "    print(word_current)\n",
    "       \n",
    "    while gu_num < 7:\n",
    "        guess_let=input('PRESS A LETTER')\n",
    "        guess_let.lower()\n",
    "        count_three=0\n",
    "        while count_three < len_c:\n",
    "            count_two=0\n",
    "            if guess_let == choice[count_three]:\n",
    "                word_current[count_three]=guess_let\n",
    "                gus_true+=1\n",
    "                count_two+=1\n",
    "                count_three+=1\n",
    "            else:\n",
    "                count_three+=1\n",
    "        print(word_current)\n",
    "        if gus_true == len_c:\n",
    "            break\n",
    "        if count_two == 0:\n",
    "            gu_num+=1\n",
    "                \n",
    "    if gus_true == len_c:           \n",
    "        \n",
    "        print('PERFECT')\n",
    "        print('CONGRAGULATIONS')\n",
    "        \n",
    "    else:\n",
    "        print('LOST')\n",
    "    \n",
    "    rpt=input('Would like to play again Press 9')\n",
    "    if rpt == '9':\n",
    "        hangman()\n",
    "    else:\n",
    "        return()\n",
    "           \n",
    "    \n",
    "        \n",
    "    "
   ]
  },
  {
   "cell_type": "code",
   "execution_count": 6,
   "metadata": {},
   "outputs": [],
   "source": [
    "def hangman():\n",
    "    welcome()\n",
    "    \n",
    "    \n",
    "    \n",
    "    "
   ]
  },
  {
   "cell_type": "code",
   "execution_count": null,
   "metadata": {
    "scrolled": true
   },
   "outputs": [
    {
     "name": "stdout",
     "output_type": "stream",
     "text": [
      "Welcome\n",
      "Would you like play HANGMAN\n",
      "Press 1 to start Press 2 Exit \n",
      "Your choice:1\n",
      "What is Your Nameneva\n",
      "Welcome to the game neva \n",
      "ali\n",
      "3\n",
      "['_', '_', '_']\n",
      "PRESS A LETTERa\n",
      "['a', '_', '_']\n",
      "PRESS A LETTERl\n",
      "['a', 'l', '_']\n",
      "PRESS A LETTERi\n",
      "['a', 'l', 'i']\n",
      "PERFECT\n",
      "CONGRAGULATIONS\n"
     ]
    }
   ],
   "source": [
    "hangman()\n"
   ]
  },
  {
   "cell_type": "code",
   "execution_count": null,
   "metadata": {},
   "outputs": [],
   "source": []
  }
 ],
 "metadata": {
  "kernelspec": {
   "display_name": "Python 3",
   "language": "python",
   "name": "python3"
  },
  "language_info": {
   "codemirror_mode": {
    "name": "ipython",
    "version": 3
   },
   "file_extension": ".py",
   "mimetype": "text/x-python",
   "name": "python",
   "nbconvert_exporter": "python",
   "pygments_lexer": "ipython3",
   "version": "3.7.3"
  }
 },
 "nbformat": 4,
 "nbformat_minor": 2
}
